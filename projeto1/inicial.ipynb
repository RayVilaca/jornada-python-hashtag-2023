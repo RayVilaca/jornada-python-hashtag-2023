{
 "cells": [
  {
   "cell_type": "markdown",
   "metadata": {},
   "source": [
    "# Python Insights - Analisando Dados com Python\n",
    "\n",
    "### Case - Cancelamento de Clientes\n",
    "\n",
    "Você foi contratado por uma empresa com mais de 800 mil clientes para um projeto de Dados. Recentemente a empresa percebeu que da sua base total de clientes, a maioria são clientes inativos, ou seja, que já cancelaram o serviço.\n",
    "\n",
    "Precisando melhorar seus resultados ela quer conseguir entender os principais motivos desses cancelamentos e quais as ações mais eficientes para reduzir esse número.\n",
    "\n",
    "Base de dados e arquivos: https://drive.google.com/drive/folders/1uDesZePdkhiraJmiyeZ-w5tfc8XsNYFZ?usp=drive_link"
   ]
  },
  {
   "cell_type": "code",
   "execution_count": null,
   "metadata": {},
   "outputs": [],
   "source": [
    "import pandas as pd"
   ]
  },
  {
   "cell_type": "code",
   "execution_count": null,
   "metadata": {},
   "outputs": [],
   "source": [
    "# passo 1 - importar a base de dados\n",
    "clientes_df = pd.read_csv(\"cancelamentos.csv\")\n",
    "# excluir colunas desnecessárias (dados desnecessários não ajudam e atrapalham)\n",
    "clientes_df = clientes_df.drop('CustomerID', axis=1)\n",
    "\n",
    "# passo 2 - visualizar a base de dados\n",
    "display(clientes_df)"
   ]
  },
  {
   "cell_type": "code",
   "execution_count": null,
   "metadata": {},
   "outputs": [],
   "source": [
    "# passo 3 - tratar os dados\n",
    "\n",
    "# identificando e removendo valores vazios\n",
    "display(clientes_df.info())\n",
    "clientes_df = clientes_df.dropna()\n",
    "display(clientes_df.info())"
   ]
  },
  {
   "cell_type": "code",
   "execution_count": null,
   "metadata": {},
   "outputs": [],
   "source": [
    "# passo 4 - análise inicial\n",
    "# Quantos clientes cancelaram o serviço?\n",
    "display(clientes_df['cancelou'].value_counts())\n",
    "display(clientes_df['cancelou'].value_counts(normalize=True).map(\"{:.1%}\".format))\n"
   ]
  },
  {
   "cell_type": "code",
   "execution_count": null,
   "metadata": {},
   "outputs": [],
   "source": [
    "# quantos clientes cada assinatura possui?\n",
    "# podemos ver que a distribuição está equilibrada\n",
    "display(clientes_df['assinatura'].value_counts())\n",
    "display(clientes_df['assinatura'].value_counts(normalize=True).map(\"{:.1%}\".format))"
   ]
  },
  {
   "cell_type": "code",
   "execution_count": null,
   "metadata": {},
   "outputs": [],
   "source": [
    "#Qual a distribuição de clientes por duração do contrato\n",
    "# a assinatura mensal está com um percentual um pouco menor que as outras\n",
    "display(clientes_df['duracao_contrato'].value_counts())\n",
    "display(clientes_df['duracao_contrato'].value_counts(normalize=True).map(\"{:.1%}\".format))"
   ]
  },
  {
   "cell_type": "code",
   "execution_count": null,
   "metadata": {},
   "outputs": [],
   "source": [
    "# qual a média de cancelamentos por assinatura?\n",
    "# percebe-se que a média da assinatura mensal é de 1, o que indica que praticamente todos os clientes que assinam mensalmente cancelam\n",
    "display(clientes_df.groupby(\"duracao_contrato\").mean(numeric_only=True))"
   ]
  },
  {
   "cell_type": "code",
   "execution_count": null,
   "metadata": {},
   "outputs": [],
   "source": [
    "# vamos analisar os dados após a retirada de registros de assinatura mensal\n",
    "# a porcentagem de clientes que cancelaram o serviço saiu de 56,7% para 46,1%\n",
    "clientes_df = clientes_df[clientes_df['duracao_contrato'] != 'Monthly']\n",
    "display(clientes_df['cancelou'].value_counts())\n",
    "display(clientes_df['cancelou'].value_counts(normalize=True).map(\"{:.1%}\".format))"
   ]
  },
  {
   "cell_type": "code",
   "execution_count": null,
   "metadata": {},
   "outputs": [],
   "source": [
    "import plotly.express as px\n",
    "\n",
    "# vamos analisar os histogramas de cada coluna do nosso dataframe para entendermos o motivo dos cancelamentos\n",
    "for coluna in clientes_df.columns:\n",
    "    grafico = px.histogram(clientes_df, x=coluna, color='cancelou', width=600)\n",
    "    grafico.show()"
   ]
  },
  {
   "cell_type": "code",
   "execution_count": null,
   "metadata": {},
   "outputs": [],
   "source": [
    "# Com base nos gráficos, cheguei aos seguintes pontos:\n",
    "# mais de 50 anos, 100% cancela (Público alvo? Dificuldade de acessar o serviço?)\n",
    "# mais de 5 ligações de call center, 100% cancela (Entender os problemas comuns ou motivos da ligação com a finalidade de reduzir o número de chamadas)\n",
    "# mais de 20 dias de atraso, 100% cancela (Facilitar a forma de pagamento e oferecer suporte necessário para entender o motivo do atraso)\n",
    "\n",
    "clientes_df = clientes_df[clientes_df['idade'] <= 50]\n",
    "clientes_df = clientes_df[clientes_df['ligacoes_callcenter'] <= 5]\n",
    "clientes_df = clientes_df[clientes_df['dias_atraso'] <= 20]\n",
    "\n",
    "display(clientes_df['cancelou'].value_counts())\n",
    "display(clientes_df['cancelou'].value_counts(normalize=True).map(\"{:.1%}\".format))"
   ]
  },
  {
   "cell_type": "code",
   "execution_count": null,
   "metadata": {},
   "outputs": [],
   "source": [
    "# ao analisar os dados e verificar formas viáveis de contornar o grande número de cancelamentos, partimos de 56,7% para 14,9%"
   ]
  }
 ],
 "metadata": {
  "kernelspec": {
   "display_name": "base",
   "language": "python",
   "name": "python3"
  },
  "language_info": {
   "codemirror_mode": {
    "name": "ipython",
    "version": 3
   },
   "file_extension": ".py",
   "mimetype": "text/x-python",
   "name": "python",
   "nbconvert_exporter": "python",
   "pygments_lexer": "ipython3",
   "version": "3.10.6"
  },
  "orig_nbformat": 4
 },
 "nbformat": 4,
 "nbformat_minor": 2
}
