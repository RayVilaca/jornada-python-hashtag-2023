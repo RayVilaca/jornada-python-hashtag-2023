{
 "cells": [
  {
   "cell_type": "markdown",
   "metadata": {},
   "source": [
    "# Projeto Python IA: Inteligência Artificial e Previsões\n",
    "\n",
    "### Case: Score de Crédito dos Clientes\n",
    "\n",
    "Você foi contratado por um banco para conseguir definir o score de crédito dos clientes. Você precisa analisar todos os clientes do banco e, com base nessa análise, criar um modelo que consiga ler as informações do cliente e dizer automaticamente o score de crédito dele: Ruim, Ok, Bom\n",
    "\n",
    "Arquivos da aula: https://drive.google.com/drive/folders/1FbDqVq4XLvU85VBlVIMJ73p9oOu6u2-J?usp=drive_link"
   ]
  },
  {
   "cell_type": "code",
   "execution_count": null,
   "metadata": {},
   "outputs": [],
   "source": [
    "import pandas as pd"
   ]
  },
  {
   "cell_type": "code",
   "execution_count": null,
   "metadata": {},
   "outputs": [],
   "source": [
    "# importar a base de dados\n",
    "clientes_df = pd.read_csv('clientes.csv')\n",
    "display(clientes_df)"
   ]
  },
  {
   "cell_type": "code",
   "execution_count": null,
   "metadata": {},
   "outputs": [],
   "source": [
    "# tratar a base de dados - verificar valores vazios ou com formato errado\n",
    "display(clientes_df.info())"
   ]
  },
  {
   "cell_type": "code",
   "execution_count": null,
   "metadata": {},
   "outputs": [],
   "source": [
    "# convertendo colunas do tipo object para o tipo numérico\n",
    "from sklearn.preprocessing import LabelEncoder\n",
    "\n",
    "codificador = LabelEncoder()\n",
    "clientes_df['profissao'] = codificador.fit_transform(clientes_df['profissao'])\n",
    "clientes_df['mix_credito'] = codificador.fit_transform(clientes_df['mix_credito'])\n",
    "clientes_df['comportamento_pagamento'] = codificador.fit_transform(clientes_df['comportamento_pagamento'])\n",
    "display(clientes_df.info())"
   ]
  },
  {
   "cell_type": "code",
   "execution_count": null,
   "metadata": {},
   "outputs": [],
   "source": [
    "# separando os conjuntos de treino e de teste\n",
    "from sklearn.model_selection import train_test_split\n",
    "\n",
    "# y - coluna que o modelo irá prever\n",
    "# x - colunas que serão utilizadas para prever y, a coluna id_cliente será removida por ser um valor qualquer que não ajuda na previsão\n",
    "\n",
    "# definindo x e y\n",
    "x = clientes_df.drop(['score_credito', 'id_cliente'], axis=1)\n",
    "y = clientes_df['score_credito']\n",
    "\n",
    "# separando conjunto para treino e para teste\n",
    "x_train, x_test, y_train, y_test = train_test_split(x, y)\n"
   ]
  },
  {
   "cell_type": "code",
   "execution_count": null,
   "metadata": {},
   "outputs": [],
   "source": [
    "# treinar os modelos escolhidos\n",
    "from sklearn.ensemble import RandomForestClassifier\n",
    "from sklearn.neighbors import KNeighborsClassifier\n",
    "\n",
    "modelo_arvore_decisao = RandomForestClassifier()\n",
    "modelo_knn = KNeighborsClassifier()\n",
    "\n",
    "modelo_arvore_decisao.fit(x_train, y_train)\n",
    "modelo_knn.fit(x_train, y_train)"
   ]
  },
  {
   "cell_type": "code",
   "execution_count": null,
   "metadata": {},
   "outputs": [],
   "source": [
    "# calculando a acurácia do modelo se o mesmo \"chutasse\" tudo \"Standard\"\n",
    "contagem_scores = clientes_df['score_credito'].value_counts()\n",
    "acuracia = contagem_scores['Standard'] / contagem_scores.sum()\n",
    "print(acuracia)"
   ]
  },
  {
   "cell_type": "code",
   "execution_count": null,
   "metadata": {},
   "outputs": [],
   "source": [
    "# prevendo com base no conjunto x de teste\n",
    "previsao_arvore_decisao = modelo_arvore_decisao.predict(x_test)\n",
    "previsao_knn = modelo_knn.predict(x_test.to_numpy())\n",
    "\n",
    "print(previsao_arvore_decisao)\n",
    "print(previsao_knn)"
   ]
  },
  {
   "cell_type": "code",
   "execution_count": null,
   "metadata": {},
   "outputs": [],
   "source": [
    "from sklearn.metrics import accuracy_score\n",
    "\n",
    "# comparando as previsões com o y de teste\n",
    "score_arvore_decisao = accuracy_score(y_test, previsao_arvore_decisao)\n",
    "score_knn = accuracy_score(y_test, previsao_knn)\n",
    "\n",
    "print(score_arvore_decisao)\n",
    "print(score_knn)"
   ]
  },
  {
   "cell_type": "code",
   "execution_count": null,
   "metadata": {},
   "outputs": [],
   "source": [
    "# vamos seguir com o modelo de árvore de decisão, dado que o seu score é maior que o do modelo knn\n",
    "# quais as características mais importantes para a definição do score de crédito?\n",
    "colunas = list(x_test.columns)\n",
    "importancia = pd.DataFrame(index=colunas, data=modelo_arvore_decisao.feature_importances_)\n",
    "importancia *= 100\n",
    "print(importancia)\n",
    "\n",
    "# juros_emprestimo, mix_credito e divida_total"
   ]
  },
  {
   "cell_type": "code",
   "execution_count": null,
   "metadata": {},
   "outputs": [],
   "source": [
    "# prevendo o score de novos clientes\n",
    "novos_clientes_df = pd.read_csv('novos_clientes.csv')\n",
    "novos_clientes_df['profissao'] = codificador.fit_transform(novos_clientes_df['profissao'])\n",
    "novos_clientes_df['mix_credito'] = codificador.fit_transform(novos_clientes_df['mix_credito'])\n",
    "novos_clientes_df['comportamento_pagamento'] = codificador.fit_transform(novos_clientes_df['comportamento_pagamento'])\n",
    "display(novos_clientes_df.info())"
   ]
  },
  {
   "cell_type": "code",
   "execution_count": null,
   "metadata": {},
   "outputs": [],
   "source": [
    "previsao = modelo_arvore_decisao.predict(novos_clientes_df)\n",
    "print(previsao)"
   ]
  }
 ],
 "metadata": {
  "kernelspec": {
   "display_name": "Python 3",
   "language": "python",
   "name": "python3"
  },
  "language_info": {
   "codemirror_mode": {
    "name": "ipython",
    "version": 3
   },
   "file_extension": ".py",
   "mimetype": "text/x-python",
   "name": "python",
   "nbconvert_exporter": "python",
   "pygments_lexer": "ipython3",
   "version": "3.10.6"
  },
  "orig_nbformat": 4
 },
 "nbformat": 4,
 "nbformat_minor": 2
}
